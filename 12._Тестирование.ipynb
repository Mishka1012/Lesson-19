{
 "cells": [
  {
   "cell_type": "markdown",
   "metadata": {
    "id": "21gQo_iAUZ_L"
   },
   "source": [
    "# Тестирование\n",
    "\n",
    "В большинстве случаев зоной ответственности разработчиков являются следующие типы тестов:\n",
    "\n",
    "- Модульные тесты(юнит-тесты).\n",
    "- Интеграционные тесты. \n",
    "\n",
    "Модульные тесты - тесты, предназначенные для тестирования отдельного небольшого модуля(unit) нашего приложения. Не стоит путать модуль в тестировании - unit и модуля python - module. В качестве модуля может выступать функция, метод класса, небольшой класс.\n",
    "\n",
    "Интеграционные тесты - тесты, предназначенные для тестирования взаимодействия нескольких модулей. \n",
    "\n",
    "Базовые понятия в тестах:\n",
    "- **Test fixture** - подготовка данных, необходимых для выполнения одного или нескольких тестов, а также очистка \"мусора\" после выполнения тестов.\n",
    "- **Test case**(тестовый случай) - объект, позволяющий протестировать одну определенную операцию (последовательность шагов, условий и параметров, необходимых для проверки тестируемой функции). \n",
    "- **Test suite**(тестовый набор) - набор тестов,  позволяющих всесторонне протестировать определенный функционал. Кроме тестов, может содержать общие для набора правила подготовки данных для тестирования. \n",
    "- **Test runner** - компонент, организующий запускающий наши тесты и предоставляющий результаты.\n",
    "\n",
    "\n",
    "### Структура теста:\n",
    "\n",
    "```python\n",
    "def test_case(self, *params):\n",
    "    # prepare test\n",
    "    # perform action\n",
    "    # assert results\n",
    "```"
   ]
  },
  {
   "cell_type": "markdown",
   "metadata": {
    "id": "HwkQql9pYvPr"
   },
   "source": [
    "## Структура тестов unittest\n",
    "```python\n",
    "import unittest\n",
    "\n",
    "class TestSuite(unittest.TestCase):\n",
    "  \n",
    "  # Выполняется перед запускомтестов, содержащихся в классе\n",
    "  def setUpClass(self):\n",
    "    pass\n",
    "  \n",
    "  # Выполняется перед запуском каждого теста в классе\n",
    "  def setUp(self):\n",
    "    pass\n",
    "  \n",
    "  # Выполняется после выполнения каждого теста в классе\n",
    "  def tearDown(self):\n",
    "    pass\n",
    "  \n",
    "  # Выполняется после выполнения всех тестов в классе\n",
    "  def tearDownClass(self):\n",
    "    pass\n",
    "\n",
    "  def test_my_test(self):\n",
    "    # Test Case\n",
    "    pass\n",
    "\n",
    "```"
   ]
  },
  {
   "cell_type": "markdown",
   "metadata": {
    "id": "i-DkppkSlSkk"
   },
   "source": [
    "## Вспомогательные библиотеки\n",
    "\n",
    "### DDT\n",
    "\n",
    "DDT (Data-Driven Tests) - фреймворк, предназначенный для параметризацией тестов. \n",
    "\n",
    "Часто нам необходимо выполнить одни и те же шаги для различных данных. В таком случае мы можем использовать ddt. (https://ddt.readthedocs.io/en/latest/).\n",
    "\n",
    "Примеры параметризации тестов находятся в репозитории: https://github.com/belovmd-for-itacademy/tests-example.\n",
    "\n",
    "```python\n",
    "@ddt.ddt  # Декорирует класс для дальнейшего использования DDT\n",
    "@ddt.data(*values)  # Позволяет параметризовать тест\n",
    "@ddt.unpack  # Распаковывает параметры для параметризации  \n",
    "```\n",
    "\n",
    "### Nose\n",
    "\n",
    "Для запуска тестов, написанных в `unittest`, в качестве раннера часто используют nose. \n",
    "\n",
    "```bash\n",
    "nosetests -s tests  # запуск всех тестов в заданной папке.\n",
    "nosetests -s tests/test_simple.py  # Запуск всех тестов в модуле. \n",
    "nosetests -s tests/test_simple.py:TestSimple  # запуск всех тестов в классе\n",
    "nosetests -s tests/test_simple.py:TestSimple.test_bad_nums  # запуск конкретного теста.\n",
    "nosetests -s tests --with-coverage --cover-erase  # запуск с подсчетом покрытия.\n",
    "\n",
    "# Позволяет исключить из подсчета покрытия библиотеки\n",
    "nosetests -s tests --with-coverage --cover-erase --cover-package=./src  # запуск с подсчетом покрытия только модулей в заданном 'package'. \n",
    "```\n",
    "\n"
   ]
  },
  {
   "cell_type": "markdown",
   "metadata": {
    "id": "bU5R6sdBnWXc"
   },
   "source": [
    "## Тестирование в Django\n",
    "\n",
    "Джанго расширяет стандартный встроенный фреймворк unittest.\n",
    "Особенности:\n",
    "- При тестировании Django поднимает приложение для тестирования. \n",
    "- Django создает базу данных, которая используется тестами. \n",
    "- Django чистит базу данных перед запуском каждого теста. \n",
    "- Django предоставляет клиент, который может выполнять запросы к приложению.\n",
    "- Предоставляет RequestFactory, позволяющие вызывать и тестировать view напрямую.\n",
    "- Позволяет использовать fixtures.\n",
    "- Добавляет assertions.\n",
    "\n",
    "\n"
   ]
  },
  {
   "cell_type": "markdown",
   "metadata": {
    "id": "KXGm6JZdnJEs"
   },
   "source": [
    "## Code Snippets\n",
    "\n",
    "Примеры тестов находятся в репозитории: https://github.com/belovmd-for-itacademy/tests-example."
   ]
  }
 ],
 "metadata": {
  "colab": {
   "authorship_tag": "ABX9TyPvabIYtQXlC8Blvdb/J3ya",
   "collapsed_sections": [],
   "name": "12._Тестирование.ipynb",
   "provenance": [],
   "toc_visible": true
  },
  "kernelspec": {
   "display_name": "Python 3",
   "language": "python",
   "name": "python3"
  },
  "language_info": {
   "codemirror_mode": {
    "name": "ipython",
    "version": 3
   },
   "file_extension": ".py",
   "mimetype": "text/x-python",
   "name": "python",
   "nbconvert_exporter": "python",
   "pygments_lexer": "ipython3",
   "version": "3.9.2"
  }
 },
 "nbformat": 4,
 "nbformat_minor": 1
}
